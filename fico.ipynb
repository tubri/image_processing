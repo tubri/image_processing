{
 "cells": [
  {
   "cell_type": "code",
   "execution_count": 1,
   "outputs": [],
   "source": [
    "import pandas as pd\n",
    "df = pd.read_excel('fico.xlsx')"
   ],
   "metadata": {
    "collapsed": false,
    "pycharm": {
     "name": "#%%\n"
    }
   }
  },
  {
   "cell_type": "code",
   "execution_count": 2,
   "outputs": [
    {
     "data": {
      "text/plain": "    fico  account\n0     34        0\n1     32        1\n2     67        1\n3    345        1\n4     86        0\n5     56        1\n6     57        1\n7    235        0\n8     54        0\n9     33        0\n10    98        0\n11   786        0\n12   777        1\n13   776        0\n14   869        1\n15   457        0\n16    34        1\n17    90        1\n18   800        1\n19   767        0\n20    65        1\n21    23        1",
      "text/html": "<div>\n<style scoped>\n    .dataframe tbody tr th:only-of-type {\n        vertical-align: middle;\n    }\n\n    .dataframe tbody tr th {\n        vertical-align: top;\n    }\n\n    .dataframe thead th {\n        text-align: right;\n    }\n</style>\n<table border=\"1\" class=\"dataframe\">\n  <thead>\n    <tr style=\"text-align: right;\">\n      <th></th>\n      <th>fico</th>\n      <th>account</th>\n    </tr>\n  </thead>\n  <tbody>\n    <tr>\n      <th>0</th>\n      <td>34</td>\n      <td>0</td>\n    </tr>\n    <tr>\n      <th>1</th>\n      <td>32</td>\n      <td>1</td>\n    </tr>\n    <tr>\n      <th>2</th>\n      <td>67</td>\n      <td>1</td>\n    </tr>\n    <tr>\n      <th>3</th>\n      <td>345</td>\n      <td>1</td>\n    </tr>\n    <tr>\n      <th>4</th>\n      <td>86</td>\n      <td>0</td>\n    </tr>\n    <tr>\n      <th>5</th>\n      <td>56</td>\n      <td>1</td>\n    </tr>\n    <tr>\n      <th>6</th>\n      <td>57</td>\n      <td>1</td>\n    </tr>\n    <tr>\n      <th>7</th>\n      <td>235</td>\n      <td>0</td>\n    </tr>\n    <tr>\n      <th>8</th>\n      <td>54</td>\n      <td>0</td>\n    </tr>\n    <tr>\n      <th>9</th>\n      <td>33</td>\n      <td>0</td>\n    </tr>\n    <tr>\n      <th>10</th>\n      <td>98</td>\n      <td>0</td>\n    </tr>\n    <tr>\n      <th>11</th>\n      <td>786</td>\n      <td>0</td>\n    </tr>\n    <tr>\n      <th>12</th>\n      <td>777</td>\n      <td>1</td>\n    </tr>\n    <tr>\n      <th>13</th>\n      <td>776</td>\n      <td>0</td>\n    </tr>\n    <tr>\n      <th>14</th>\n      <td>869</td>\n      <td>1</td>\n    </tr>\n    <tr>\n      <th>15</th>\n      <td>457</td>\n      <td>0</td>\n    </tr>\n    <tr>\n      <th>16</th>\n      <td>34</td>\n      <td>1</td>\n    </tr>\n    <tr>\n      <th>17</th>\n      <td>90</td>\n      <td>1</td>\n    </tr>\n    <tr>\n      <th>18</th>\n      <td>800</td>\n      <td>1</td>\n    </tr>\n    <tr>\n      <th>19</th>\n      <td>767</td>\n      <td>0</td>\n    </tr>\n    <tr>\n      <th>20</th>\n      <td>65</td>\n      <td>1</td>\n    </tr>\n    <tr>\n      <th>21</th>\n      <td>23</td>\n      <td>1</td>\n    </tr>\n  </tbody>\n</table>\n</div>"
     },
     "execution_count": 2,
     "metadata": {},
     "output_type": "execute_result"
    }
   ],
   "source": [
    "df"
   ],
   "metadata": {
    "collapsed": false,
    "pycharm": {
     "name": "#%%\n"
    }
   }
  },
  {
   "cell_type": "code",
   "execution_count": 3,
   "outputs": [],
   "source": [
    "import numpy as np\n",
    "fico = df[df.account==0].fico"
   ],
   "metadata": {
    "collapsed": false,
    "pycharm": {
     "name": "#%%\n"
    }
   }
  },
  {
   "cell_type": "code",
   "execution_count": 4,
   "outputs": [
    {
     "data": {
      "text/plain": "0      34\n4      86\n7     235\n8      54\n9      33\n10     98\n11    786\n13    776\n15    457\n19    767\nName: fico, dtype: int64"
     },
     "execution_count": 4,
     "metadata": {},
     "output_type": "execute_result"
    }
   ],
   "source": [
    "fico"
   ],
   "metadata": {
    "collapsed": false,
    "pycharm": {
     "name": "#%%\n"
    }
   }
  },
  {
   "cell_type": "code",
   "execution_count": 5,
   "outputs": [
    {
     "data": {
      "text/plain": "(array([3., 2., 0., 0., 0., 1., 0., 0., 0., 0., 0., 1., 0., 0., 0., 0., 0.,\n        0., 0., 3.]),\n array([ 33.  ,  70.65, 108.3 , 145.95, 183.6 , 221.25, 258.9 , 296.55,\n        334.2 , 371.85, 409.5 , 447.15, 484.8 , 522.45, 560.1 , 597.75,\n        635.4 , 673.05, 710.7 , 748.35, 786.  ]),\n <BarContainer object of 20 artists>)"
     },
     "execution_count": 5,
     "metadata": {},
     "output_type": "execute_result"
    },
    {
     "data": {
      "text/plain": "<Figure size 432x288 with 1 Axes>",
      "image/png": "[encoded data removed]"
     },
     "metadata": {
      "needs_background": "light"
     },
     "output_type": "display_data"
    }
   ],
   "source": [
    "import matplotlib.pyplot as plt\n",
    "plt.figure(1)\n",
    "plt.hist(fico,bins=20)"
   ],
   "metadata": {
    "collapsed": false,
    "pycharm": {
     "name": "#%%\n"
    }
   }
  },
  {
   "cell_type": "code",
   "execution_count": 20,
   "outputs": [
    {
     "data": {
      "text/plain": "(60, 1000]    7\n(30, 40]      2\n(50, 60]      1\n(20, 30]      0\n(40, 50]      0\nName: fico, dtype: int64"
     },
     "execution_count": 20,
     "metadata": {},
     "output_type": "execute_result"
    }
   ],
   "source": [
    "bins=[20,30,40,50,60,1000]\n",
    "score_cut = pd.cut(fico,bins)\n",
    "pd.value_counts(score_cut)"
   ],
   "metadata": {
    "collapsed": false,
    "pycharm": {
     "name": "#%%\n"
    }
   }
  },
  {
   "cell_type": "code",
   "execution_count": 21,
   "outputs": [
    {
     "data": {
      "text/plain": "0     b\n4     e\n7     e\n8     d\n9     b\n10    e\n11    e\n13    e\n15    e\n19    e\nName: fico, dtype: category\nCategories (5, object): ['a' < 'b' < 'c' < 'd' < 'e']"
     },
     "execution_count": 21,
     "metadata": {},
     "output_type": "execute_result"
    }
   ],
   "source": [
    "newdf = pd.cut(fico,bins,labels=['a','b','c','d','e'])\n",
    "newdf"
   ],
   "metadata": {
    "collapsed": false,
    "pycharm": {
     "name": "#%%\n"
    }
   }
  },
  {
   "cell_type": "code",
   "execution_count": null,
   "outputs": [],
   "source": [],
   "metadata": {
    "collapsed": false,
    "pycharm": {
     "name": "#%%\n"
    }
   }
  }
 ],
 "metadata": {
  "kernelspec": {
   "display_name": "Python 3",
   "language": "python",
   "name": "python3"
  },
  "language_info": {
   "codemirror_mode": {
    "name": "ipython",
    "version": 2
   },
   "file_extension": ".py",
   "mimetype": "text/x-python",
   "name": "python",
   "nbconvert_exporter": "python",
   "pygments_lexer": "ipython2",
   "version": "2.7.6"
  }
 },
 "nbformat": 4,
 "nbformat_minor": 0
}